{
 "cells": [
  {
   "cell_type": "markdown",
   "metadata": {},
   "source": [
    "# 🚀 **Aula 01 - Conceitos básicos - Parte 01**"
   ]
  },
  {
   "cell_type": "markdown",
   "metadata": {},
   "source": [
    "## Nesta aula iremos explorar o básico de Python, como **O que é Python, diferentes Tipos de dados e Estruturas condicionais**"
   ]
  },
  {
   "cell_type": "markdown",
   "metadata": {},
   "source": [
    "***"
   ]
  },
  {
   "cell_type": "markdown",
   "metadata": {},
   "source": [
    "# **1. O que é Python?**  ⚡"
   ]
  },
  {
   "cell_type": "markdown",
   "metadata": {},
   "source": [
    "## **Em resumo** <br>\n",
    "\n",
    "### **Python** é uma linguagem de programação orientada a objetos. <br> \n",
    "### Tudo é em Python tratado como um objeto, incluindo variáveis, funções, listas, tuplas, dicionários, conjuntos, etc.  \n",
    "### Cada objeto pertence à sua classe. <br><br>"
   ]
  },
  {
   "cell_type": "markdown",
   "metadata": {},
   "source": [
    "<img src=\"../images/nazaré.gif\" alt=\"Drawing\" style=\"width: 300px;\"/>"
   ]
  },
  {
   "cell_type": "markdown",
   "metadata": {},
   "source": [
    "### Exemplo:"
   ]
  },
  {
   "cell_type": "code",
   "execution_count": 1,
   "metadata": {},
   "outputs": [
    {
     "name": "stdout",
     "output_type": "stream",
     "text": [
      "pYtHOn na PráTiCA\n",
      "jvwill\n"
     ]
    }
   ],
   "source": [
    "meu_curso = 'pYtHOn na PráTiCA'\n",
    "print(meu_curso)\n",
    "\n",
    "teste = 'jvwill'\n",
    "print(teste)"
   ]
  },
  {
   "cell_type": "markdown",
   "metadata": {},
   "source": [
    "### *meu_curso* é uma <font color='red'>**váriavel**</font>, com o valor *pYtHOn na PráTiCA*. <br><br>\n",
    "### A váriavel <font color='red'>**meu curso**</font> tambem é um <font color='red'>**objeto da classe string**</font> , e com isso, podemos utilizar <font color='red'>**métodos**</font> aplicaveis a ela. <br><br>\n",
    "### Vejamos abaixo a utilizacao do método capitalize() para formatar a string: "
   ]
  },
  {
   "cell_type": "code",
   "execution_count": 2,
   "metadata": {},
   "outputs": [
    {
     "name": "stdout",
     "output_type": "stream",
     "text": [
      "Python na prática\n"
     ]
    }
   ],
   "source": [
    "meu_curso_formatado = meu_curso.capitalize()\n",
    "print(meu_curso_formatado)"
   ]
  },
  {
   "cell_type": "markdown",
   "metadata": {},
   "source": [
    "### Em Python, todo método é chamado se escrevendo o objeto em questão (que pode ser uma váriavel, uma lista, uma string, uma funcao, etc...) mais um ponto \".\" com o nome do método em questão, seguidos de um par de parenteses (), como demonstrado acima."
   ]
  },
  {
   "cell_type": "markdown",
   "metadata": {},
   "source": [
    "---"
   ]
  },
  {
   "cell_type": "markdown",
   "metadata": {},
   "source": [
    "# **2. Tipos de dados**  ⚡"
   ]
  },
  {
   "cell_type": "markdown",
   "metadata": {},
   "source": [
    "<img src=\"../images/dados.jfif\" alt=\"Drawing\" style=\"width: 400px;\"/>"
   ]
  },
  {
   "cell_type": "markdown",
   "metadata": {},
   "source": [
    "## Em python contemos varios tipos de dados. Vejamos a lista abaixo:"
   ]
  },
  {
   "cell_type": "markdown",
   "metadata": {},
   "source": [
    "- ### Números:\tint, long, float, complex\n",
    "- ### String:\tstr e unicode\n",
    "- ### Lista: list\n",
    "- ### Tupla: tuple\n",
    "- ### Dicionário:\tdict\n",
    "- ### Arquivo:\tfile\n",
    "- ### Booleano:\tbool (True, False)\n",
    "- ### Conjuntos:\tset, frozenset\n",
    "- ### Vazio: None"
   ]
  },
  {
   "cell_type": "markdown",
   "metadata": {},
   "source": [
    "## **2.1 Listas** <br>\n",
    "\n",
    "### Listas são coleções de valores indexados, em que cada valor é identificado por um <font color='red'>**índice**</font>. <br> \n",
    "### O primeiro item na lista está no índice 0, o segundo no índice 1 e assim por diante."
   ]
  },
  {
   "cell_type": "code",
   "execution_count": 3,
   "metadata": {},
   "outputs": [
    {
     "name": "stdout",
     "output_type": "stream",
     "text": [
      "Juliana\n",
      "Maria Helena\n"
     ]
    }
   ],
   "source": [
    "lista_alunos = ['Lucas', 'Juliana', 'Maria Helena', 'Caio', 'Luana']\n",
    "print(lista_alunos[1])\n",
    "print(lista_alunos[2])"
   ]
  },
  {
   "cell_type": "markdown",
   "metadata": {},
   "source": [
    "### Para se declarar uma lista primeiramente abrimos e fechamos colchetes e colocamos os elementos da lista dentro dos colchetes e cada elemente e separado por virgula."
   ]
  },
  {
   "cell_type": "code",
   "execution_count": 4,
   "metadata": {},
   "outputs": [
    {
     "name": "stdout",
     "output_type": "stream",
     "text": [
      "2.5\n"
     ]
    }
   ],
   "source": [
    "lista_geral = ['cachorro', 'gato', 'coelho', 2, -9, 2.5 ]\n",
    "print(lista_geral[5])"
   ]
  },
  {
   "cell_type": "markdown",
   "metadata": {},
   "source": [
    "### Outra característica das listas em Python é que listas são **mutáveis**, podendo ser alteradas depois de terem sido criadas. <br>\n",
    "### Em outras palavras, podemos adicionar, remover e até mesmo alterar os itens de uma lista."
   ]
  },
  {
   "cell_type": "code",
   "execution_count": 11,
   "metadata": {},
   "outputs": [
    {
     "name": "stdout",
     "output_type": "stream",
     "text": [
      "['Lucas', 'Juliana', 'Maria Helena', 'Caio', 'Luana']\n",
      "['Lucas', 'Juliana', 'Maria Helena', 'Joao', 'Luana']\n"
     ]
    }
   ],
   "source": [
    "print(lista_alunos)\n",
    "lista_alunos[3] = \"Joao\"\n",
    "print(lista_alunos)"
   ]
  },
  {
   "cell_type": "markdown",
   "metadata": {},
   "source": [
    "## **2.2 Adicionando e removendo elementos em uma lista** <br>\n",
    "### Para adicionar elementos em uma lista podemos utilizar o método <font color='red'>**append()**</font>"
   ]
  },
  {
   "cell_type": "code",
   "execution_count": 5,
   "metadata": {},
   "outputs": [
    {
     "name": "stdout",
     "output_type": "stream",
     "text": [
      "['Lucas', 'Juliana', 'Maria Helena', 'Caio', 'Luana']\n",
      "['Lucas', 'Juliana', 'Maria Helena', 'Caio', 'Luana', 'Gustavo']\n"
     ]
    }
   ],
   "source": [
    "print(lista_alunos)\n",
    "lista_alunos.append(\"Gustavo\")\n",
    "print(lista_alunos)"
   ]
  },
  {
   "cell_type": "markdown",
   "metadata": {},
   "source": [
    "### Se quisermos adicionar o aluno Fernando em um lugar específico, como na 3a posicao, podemos utilizar o método <font color='red'>**insert (*i, Valor*)**</font>, onde *i* é o indice a ser incluido e *Valor* é o valor a ser incluso. "
   ]
  },
  {
   "cell_type": "code",
   "execution_count": 14,
   "metadata": {},
   "outputs": [
    {
     "name": "stdout",
     "output_type": "stream",
     "text": [
      "['Lucas', 'Juliana', 'Maria Helena', 'Joao', 'Luana', 'Gustavo']\n",
      "['Lucas', 'Juliana', 'Fernando', 'Maria Helena', 'Joao', 'Luana', 'Gustavo']\n"
     ]
    }
   ],
   "source": [
    "print(lista_alunos)\n",
    "lista_alunos.insert(2, \"Fernando\")\n",
    "print(lista_alunos)"
   ]
  },
  {
   "cell_type": "markdown",
   "metadata": {
    "hidden": true
   },
   "source": [
    "### O mesmo vale para remocao de dados. <br>\n",
    "### Suponhamos que queiramos remover o aluno Caio da lista. <br>\n",
    "### Podemos fazer isso utilizando o método <font color='red'>**remove(*Valor*)**</font>, onde *Valor* é o valor a ser removido. "
   ]
  },
  {
   "cell_type": "code",
   "execution_count": 16,
   "metadata": {},
   "outputs": [
    {
     "name": "stdout",
     "output_type": "stream",
     "text": [
      "['Lucas', 'Juliana', 'Fernando', 'Maria Helena', 'Joao', 'Luana', 'Gustavo']\n",
      "['Lucas', 'Juliana', 'Maria Helena', 'Joao', 'Luana', 'Gustavo']\n"
     ]
    }
   ],
   "source": [
    "print(lista_alunos)\n",
    "lista_alunos.remove(\"Fernando\")\n",
    "print(lista_alunos)"
   ]
  },
  {
   "cell_type": "markdown",
   "metadata": {},
   "source": [
    "### Para remover um elemento pelo seu indice podemos utilizar o método <font color='red'>**pop(*i*)**</font>, onde *i* é o indice a ser removido. "
   ]
  },
  {
   "cell_type": "code",
   "execution_count": 17,
   "metadata": {},
   "outputs": [
    {
     "name": "stdout",
     "output_type": "stream",
     "text": [
      "['Lucas', 'Juliana', 'Maria Helena', 'Joao', 'Luana', 'Gustavo']\n",
      "['Lucas', 'Juliana', 'Maria Helena', 'Luana', 'Gustavo']\n"
     ]
    }
   ],
   "source": [
    "print(lista_alunos)\n",
    "lista_alunos.pop(3)\n",
    "print(lista_alunos)"
   ]
  },
  {
   "cell_type": "markdown",
   "metadata": {},
   "source": [
    "### Se tentarmos remover um aluno que nao esta na lista iremos lhe deparar com um erro"
   ]
  },
  {
   "cell_type": "code",
   "execution_count": 18,
   "metadata": {},
   "outputs": [
    {
     "name": "stdout",
     "output_type": "stream",
     "text": [
      "['Lucas', 'Juliana', 'Maria Helena', 'Luana', 'Gustavo']\n"
     ]
    },
    {
     "ename": "ValueError",
     "evalue": "list.remove(x): x not in list",
     "output_type": "error",
     "traceback": [
      "\u001b[1;31m---------------------------------------------------------------------------\u001b[0m",
      "\u001b[1;31mValueError\u001b[0m                                Traceback (most recent call last)",
      "Cell \u001b[1;32mIn [18], line 2\u001b[0m\n\u001b[0;32m      1\u001b[0m \u001b[39mprint\u001b[39m(lista_alunos)\n\u001b[1;32m----> 2\u001b[0m lista_alunos\u001b[39m.\u001b[39;49mremove(\u001b[39m\"\u001b[39;49m\u001b[39mAna\u001b[39;49m\u001b[39m\"\u001b[39;49m)\n",
      "\u001b[1;31mValueError\u001b[0m: list.remove(x): x not in list"
     ]
    }
   ],
   "source": [
    "print(lista_alunos)\n",
    "lista_alunos.remove(\"Ana\")"
   ]
  },
  {
   "cell_type": "markdown",
   "metadata": {},
   "source": [
    "### Listas podem conter todos tipos de valores simultaneamente"
   ]
  },
  {
   "cell_type": "code",
   "execution_count": 19,
   "metadata": {},
   "outputs": [
    {
     "name": "stdout",
     "output_type": "stream",
     "text": [
      "<class 'list'>\n",
      "['Murilo', 19, 1.79]\n"
     ]
    }
   ],
   "source": [
    "aluno = ['Murilo', 19, 1.79] # Nome, idade e altura\n",
    "\n",
    "print(type(aluno))\n",
    "print(aluno)"
   ]
  },
  {
   "cell_type": "markdown",
   "metadata": {},
   "source": [
    "## **2.3 Tuplas**"
   ]
  },
  {
   "cell_type": "markdown",
   "metadata": {},
   "source": [
    "### Tuplas são estruturas de dados semelhantes as listas, porém, as tuplas possuem a característica de serem <font color='red'>**imutáveis**</font>, ou seja, após uma tupla ser criada, ela <font color='red'>**não podera ser alterada** </font>"
   ]
  },
  {
   "cell_type": "code",
   "execution_count": 20,
   "metadata": {},
   "outputs": [
    {
     "name": "stdout",
     "output_type": "stream",
     "text": [
      "<class 'tuple'>\n",
      "('Bife a milanesa', 'Lasanha', 'Cachorro quente', 'Pao de queijo')\n"
     ]
    }
   ],
   "source": [
    "cardapio = ('Bife a milanesa', 'Lasanha', 'Cachorro quente', 'Pao de queijo')\n",
    "\n",
    "print(type(cardapio))\n",
    "print(cardapio)"
   ]
  },
  {
   "cell_type": "markdown",
   "metadata": {},
   "source": [
    "### Assim como é feito nas listas, podemos acessar um determinado valor na tupla pelo seu índice, lembrando que o índice [0] é o primeiro elemento da tupla"
   ]
  },
  {
   "cell_type": "code",
   "execution_count": 21,
   "metadata": {},
   "outputs": [
    {
     "name": "stdout",
     "output_type": "stream",
     "text": [
      "Lasanha\n"
     ]
    }
   ],
   "source": [
    "print(cardapio[1])"
   ]
  },
  {
   "cell_type": "markdown",
   "metadata": {},
   "source": [
    "### Uma observação a ser feita no uso de uma tupla é que se ela tiver um <font color='red'>**único item**</font>, é necessário colocar uma vírgula depois dela, pois caso contrário, o objeto que iremos obter é uma string, porque o valor do item é do tipo string."
   ]
  },
  {
   "cell_type": "code",
   "execution_count": 22,
   "metadata": {},
   "outputs": [
    {
     "name": "stdout",
     "output_type": "stream",
     "text": [
      "<class 'str'>\n",
      "<class 'tuple'>\n"
     ]
    }
   ],
   "source": [
    "objeto_string = ('tesoura')\n",
    "objeto_tupla = ('tesoura',)\n",
    "\n",
    "print(type(objeto_string))\n",
    "print(type(objeto_tupla))"
   ]
  },
  {
   "cell_type": "markdown",
   "metadata": {},
   "source": [
    "### Para criar uma tupla utilzamos um par de parenteses"
   ]
  },
  {
   "cell_type": "code",
   "execution_count": 23,
   "metadata": {},
   "outputs": [
    {
     "name": "stdout",
     "output_type": "stream",
     "text": [
      "('mustang', 'fusca', 'gol')\n"
     ]
    }
   ],
   "source": [
    "tupla_de_carros = ('mustang', 'fusca', 'gol')\n",
    "print(tupla_de_carros)"
   ]
  },
  {
   "cell_type": "markdown",
   "metadata": {},
   "source": [
    "### O fato da tupla ser imutável faz com que os seus elementos não possam ser alterados depois dela já criada. <br> \n",
    "### Vamos usar a tupla vogais para mostrar um exemplo desse tipo"
   ]
  },
  {
   "cell_type": "code",
   "execution_count": 24,
   "metadata": {},
   "outputs": [
    {
     "name": "stdout",
     "output_type": "stream",
     "text": [
      "['a', 'E', 'i', 'o', 'u']\n"
     ]
    }
   ],
   "source": [
    "vogais_lista = ['a', 'e', 'i', 'o', 'u']\n",
    "vogais_lista[1] = 'E'\n",
    "print(vogais_lista)"
   ]
  },
  {
   "cell_type": "code",
   "execution_count": 25,
   "metadata": {},
   "outputs": [
    {
     "ename": "TypeError",
     "evalue": "'tuple' object does not support item assignment",
     "output_type": "error",
     "traceback": [
      "\u001b[1;31m---------------------------------------------------------------------------\u001b[0m",
      "\u001b[1;31mTypeError\u001b[0m                                 Traceback (most recent call last)",
      "Cell \u001b[1;32mIn [25], line 2\u001b[0m\n\u001b[0;32m      1\u001b[0m vogais_tupla \u001b[39m=\u001b[39m (\u001b[39m'\u001b[39m\u001b[39ma\u001b[39m\u001b[39m'\u001b[39m, \u001b[39m'\u001b[39m\u001b[39me\u001b[39m\u001b[39m'\u001b[39m, \u001b[39m'\u001b[39m\u001b[39mi\u001b[39m\u001b[39m'\u001b[39m, \u001b[39m'\u001b[39m\u001b[39mo\u001b[39m\u001b[39m'\u001b[39m, \u001b[39m'\u001b[39m\u001b[39mu\u001b[39m\u001b[39m'\u001b[39m)\n\u001b[1;32m----> 2\u001b[0m vogais_tupla[\u001b[39m1\u001b[39;49m] \u001b[39m=\u001b[39m \u001b[39m'\u001b[39m\u001b[39mE\u001b[39m\u001b[39m'\u001b[39m\n",
      "\u001b[1;31mTypeError\u001b[0m: 'tuple' object does not support item assignment"
     ]
    }
   ],
   "source": [
    "vogais_tupla = ('a', 'e', 'i', 'o', 'u')\n",
    "vogais_tupla[1] = 'E'"
   ]
  },
  {
   "cell_type": "markdown",
   "metadata": {},
   "source": [
    "### Para fixar esse conceito, lembre-se que: <br> \n",
    "- ### Tuplas e as strings são <font color='red'> **sequências imutáveis** </font>.\n",
    "- ### listas são <font color='red'> **sequências mutáveis** </font>. \n",
    "### Isso está de acordo com a [documentação oficial do Python.](https://docs.python.org/3.8/reference/datamodel.html#the-standard-type-hierarchy)"
   ]
  },
  {
   "cell_type": "markdown",
   "metadata": {},
   "source": [
    "## **2.4 Sets (Conjuntos)**"
   ]
  },
  {
   "cell_type": "markdown",
   "metadata": {},
   "source": [
    "### Um set em Python é uma coleção de itens únicos (distintos)."
   ]
  },
  {
   "cell_type": "markdown",
   "metadata": {},
   "source": [
    "### Python nos permite criar sets de várias formas. <br>\n",
    "### Uma das mais formas mais frequentemente usadas é criar um set a partir de uma lista de elementos."
   ]
  },
  {
   "cell_type": "code",
   "execution_count": 26,
   "metadata": {},
   "outputs": [
    {
     "name": "stdout",
     "output_type": "stream",
     "text": [
      "Números:  [1, 2, 3, 4, 3, 3]\n",
      "Números distintos:  {1, 2, 3, 4}\n"
     ]
    }
   ],
   "source": [
    "numeros = [1, 2, 3, 4, 3, 3]\n",
    "numeros_distintos = set(numeros)\n",
    "print(\"Números: \", numeros)\n",
    "print(\"Números distintos: \", numeros_distintos)"
   ]
  },
  {
   "cell_type": "code",
   "execution_count": 36,
   "metadata": {},
   "outputs": [
    {
     "name": "stdout",
     "output_type": "stream",
     "text": [
      "{2, 3, 4, 5}\n"
     ]
    }
   ],
   "source": [
    "meu_set = {2,3,4,5,5,5,5}\n",
    "print(meu_set)"
   ]
  },
  {
   "cell_type": "markdown",
   "metadata": {},
   "source": [
    "### Lembrando que sets nao seguem um padrao de indices como as listas e tuplas"
   ]
  },
  {
   "cell_type": "code",
   "execution_count": 28,
   "metadata": {},
   "outputs": [
    {
     "data": {
      "text/plain": [
       "{'abacaxi', 'goiaba', 'limao', 'maca', 'morango', 'pera'}"
      ]
     },
     "execution_count": 28,
     "metadata": {},
     "output_type": "execute_result"
    }
   ],
   "source": [
    "set_frutas = {'maca', 'pera', 'goiaba','abacaxi', 'goiaba', 'limao', 'pera', 'morango'}\n",
    "set_frutas"
   ]
  },
  {
   "cell_type": "markdown",
   "metadata": {},
   "source": [
    "### Outra forma de criarmos sets em Python é criar um conjunto vazio e inserir elementos nele à medida que desejarmos."
   ]
  },
  {
   "cell_type": "code",
   "execution_count": 30,
   "metadata": {},
   "outputs": [
    {
     "name": "stdout",
     "output_type": "stream",
     "text": [
      "Números:  [1, 2, 2, 3, 3, 3, 4]\n",
      "Números distintos:  {1, 2, 3, 4}\n"
     ]
    }
   ],
   "source": [
    "numeros = [1, 2, 2, 3, 3, 3]\n",
    "numeros_distintos = set() \n",
    "for num in numeros:\n",
    "    numeros_distintos.add(num)\n",
    "print(\"Números: \", numeros)\n",
    "print(\"Números distintos: \", numeros_distintos)"
   ]
  },
  {
   "cell_type": "markdown",
   "metadata": {},
   "source": [
    "### Obs: "
   ]
  },
  {
   "cell_type": "markdown",
   "metadata": {},
   "source": [
    "- ### Utilizamos o metodo *add* para sets (conjuntos) e o metodo *append* para listas."
   ]
  },
  {
   "cell_type": "markdown",
   "metadata": {},
   "source": [
    "- ### Para inserir um elemento em uma lista, podemos usar os métodos insert ou append, mas para inserir um elemento em um set podemos usar somente o método <font colot='red'>**add**</font>. <br> \n",
    "- ### Essa diferença decorre do fato de que em uma lista temos um controle da posição dos elementos: <br>\n",
    "- ### insert nos permite inserir um elemento em uma posição específica da lista e append adiciona um elemento ao final da lista. <br>\n",
    "- ### Porém em um set não temos controle sobre a ordem na qual os elementos são armazenados. <br> \n",
    "- ### A única garantia que temos é que <font color='red'>**elementos duplicados não serão inseridos.**</font>"
   ]
  },
  {
   "cell_type": "markdown",
   "metadata": {},
   "source": [
    "### Para remover itens de um set podemos usar os métodos <font color='red'>**remove**</font> ou <font color='red'>**discard.**</font>"
   ]
  },
  {
   "cell_type": "markdown",
   "metadata": {},
   "source": [
    "### **Método remove:** <br>\n",
    "### Remove o elemento em questao porém se tentarmos remover um elemento inexistente o método causara uma excecao."
   ]
  },
  {
   "cell_type": "code",
   "execution_count": 33,
   "metadata": {},
   "outputs": [
    {
     "name": "stdout",
     "output_type": "stream",
     "text": [
      "{1, 2, 3}\n",
      "Números:  {1, 3}\n"
     ]
    },
    {
     "ename": "KeyError",
     "evalue": "4",
     "output_type": "error",
     "traceback": [
      "\u001b[1;31m---------------------------------------------------------------------------\u001b[0m",
      "\u001b[1;31mKeyError\u001b[0m                                  Traceback (most recent call last)",
      "Cell \u001b[1;32mIn [33], line 5\u001b[0m\n\u001b[0;32m      3\u001b[0m nums\u001b[39m.\u001b[39mremove(\u001b[39m2\u001b[39m)\n\u001b[0;32m      4\u001b[0m \u001b[39mprint\u001b[39m(\u001b[39m\"\u001b[39m\u001b[39mNúmeros: \u001b[39m\u001b[39m\"\u001b[39m, nums)\n\u001b[1;32m----> 5\u001b[0m nums\u001b[39m.\u001b[39;49mremove(\u001b[39m4\u001b[39;49m)\n\u001b[0;32m      6\u001b[0m \u001b[39mprint\u001b[39m(\u001b[39m\"\u001b[39m\u001b[39mNúmeros: \u001b[39m\u001b[39m\"\u001b[39m, nums)\n",
      "\u001b[1;31mKeyError\u001b[0m: 4"
     ]
    }
   ],
   "source": [
    "nums = set([1, 2, 2, 3, 3, 3])\n",
    "print(nums)\n",
    "nums.remove(2)\n",
    "print(\"Números: \", nums)\n",
    "nums.remove(4)\n",
    "print(\"Números: \", nums)"
   ]
  },
  {
   "cell_type": "markdown",
   "metadata": {},
   "source": [
    "### **Metodo discard:** <br>\n",
    "### Remove o elemento em questao porém se tentarmos remover um elemento inexistente o método não ira causar uma exceção."
   ]
  },
  {
   "cell_type": "code",
   "execution_count": 34,
   "metadata": {},
   "outputs": [
    {
     "name": "stdout",
     "output_type": "stream",
     "text": [
      "{1, 3}\n"
     ]
    }
   ],
   "source": [
    "nums = set([1, 2, 2, 3, 3, 3])\n",
    "nums.discard(4) \n",
    "nums.discard(2)\n",
    "print(nums)"
   ]
  },
  {
   "cell_type": "markdown",
   "metadata": {},
   "source": [
    "### Podemos remover todos elementos de um set usando o método clear"
   ]
  },
  {
   "cell_type": "code",
   "execution_count": 35,
   "metadata": {},
   "outputs": [
    {
     "name": "stdout",
     "output_type": "stream",
     "text": [
      "Números:  {1, 2, 3}\n",
      "Números:  set()\n"
     ]
    }
   ],
   "source": [
    "nums = set([1, 2, 2, 3, 3, 3])\n",
    "print(\"Números: \", nums)\n",
    "nums.clear()\n",
    "print(\"Números: \", nums)"
   ]
  },
  {
   "cell_type": "markdown",
   "metadata": {},
   "source": [
    "### **Pergunta:**"
   ]
  },
  {
   "cell_type": "markdown",
   "metadata": {},
   "source": [
    "### Suponhamos que temos uma lista com varios valores repetidos e desejamos apenas imprimir uma **lista** com valores únicos.\n",
    "### Como poderiamos fazer isso?"
   ]
  },
  {
   "cell_type": "code",
   "execution_count": 39,
   "metadata": {},
   "outputs": [],
   "source": [
    "animais = [\"cachorro\", \"gato\", \"passaro\", \"cobra\", \"elefante\", \"cachorro\", \"passaro\", \"coelho\"]"
   ]
  },
  {
   "cell_type": "code",
   "execution_count": 41,
   "metadata": {},
   "outputs": [
    {
     "name": "stdout",
     "output_type": "stream",
     "text": [
      "{'cobra', 'elefante', 'passaro', 'cachorro', 'coelho', 'gato'}\n"
     ]
    }
   ],
   "source": [
    "set_animais = set(animais)\n",
    "print(set_animais)"
   ]
  },
  {
   "cell_type": "code",
   "execution_count": 42,
   "metadata": {},
   "outputs": [
    {
     "name": "stdout",
     "output_type": "stream",
     "text": [
      "['cobra', 'elefante', 'passaro', 'cachorro', 'coelho', 'gato']\n"
     ]
    }
   ],
   "source": [
    "lista_animais_unicos = list(set_animais)\n",
    "print(lista_animais_unicos)"
   ]
  },
  {
   "cell_type": "code",
   "execution_count": 43,
   "metadata": {},
   "outputs": [
    {
     "name": "stdout",
     "output_type": "stream",
     "text": [
      "['cobra', 'elefante', 'passaro', 'cachorro', 'coelho', 'gato']\n"
     ]
    }
   ],
   "source": [
    "print(list(set(animais)))"
   ]
  },
  {
   "cell_type": "markdown",
   "metadata": {},
   "source": [
    "## **2.5 Dicionários**"
   ]
  },
  {
   "cell_type": "markdown",
   "metadata": {},
   "source": [
    " - ### Os dicionários representam coleções de dados que contém na sua estrutura um <font color='red'> **conjunto de pares chave/valor** </font>, nos quais cada chave <font color='red'> **individual** </font> tem um valor associado.<br>\n",
    "- ### Esse objeto representa a ideia de um mapa, que entendemos como uma coleção associativa desordenada. \n",
    "- ### A associação nos dicionários é feita por meio de uma <font color='red'> **chave** </font> que faz <font color='red'> **referência** </font> a um valor."
   ]
  },
  {
   "cell_type": "markdown",
   "metadata": {},
   "source": [
    "### Exemplo:"
   ]
  },
  {
   "cell_type": "code",
   "execution_count": 49,
   "metadata": {},
   "outputs": [
    {
     "name": "stdout",
     "output_type": "stream",
     "text": [
      "{'Nome': 'Marcos', 'Sexo': 'Masculino', 'Tele fone': '98250-3645'}\n",
      "98250-3645\n"
     ]
    }
   ],
   "source": [
    "dados_cliente = {\n",
    "    #chave: valor\n",
    "    'Nome': 'Marcos',\n",
    "    'Sexo': 'Masculino',\n",
    "    'Telefone': '98250-3645'\n",
    "}\n",
    "\n",
    "print(dados_cliente)\n",
    "print(dados_cliente['Telefone'])"
   ]
  },
  {
   "cell_type": "markdown",
   "metadata": {},
   "source": [
    "### A estrutura de um dicionário é delimitada por chaves, entre as quais ficam o conteúdo desse objeto. \n",
    "### Veja que é criada a variável *dados_cliente*, à qual é atribuída uma coleção de dados que, nesse caso, trata-se de um dicionário."
   ]
  },
  {
   "cell_type": "markdown",
   "metadata": {},
   "source": [
    "### \"Nas listas e tuplas acessamos os dados por meio dos <font color= 'red'> **índices** </font>. Já nos dicionários, o acesso aos dados é feito por meio da <font color= 'red'> **chave associada a eles**</font>.\""
   ]
  },
  {
   "cell_type": "code",
   "execution_count": 50,
   "metadata": {},
   "outputs": [
    {
     "name": "stdout",
     "output_type": "stream",
     "text": [
      "8gb\n"
     ]
    }
   ],
   "source": [
    "computador = {\n",
    "    'CPU': 'Intel',\n",
    "    'RAM': '8gb',\n",
    "    'SSD': '250gb'\n",
    "}\n",
    "print(computador['RAM'])"
   ]
  },
  {
   "cell_type": "markdown",
   "metadata": {},
   "source": [
    "### Para adicionar elementos em dicionário basta associar uma nova chave ao objeto e dar um valor a ser associado a ela."
   ]
  },
  {
   "cell_type": "code",
   "execution_count": 51,
   "metadata": {},
   "outputs": [
    {
     "name": "stdout",
     "output_type": "stream",
     "text": [
      "{'CPU': 'Intel', 'RAM': '8gb', 'SSD': '250gb'}\n",
      "{'CPU': 'Intel', 'RAM': '8gb', 'SSD': '250gb', 'Placa de Video': 'NVDIA'}\n"
     ]
    }
   ],
   "source": [
    "computador = {\n",
    "    'CPU': 'Intel',\n",
    "    'RAM': '8gb',\n",
    "    'SSD': '250gb'\n",
    "}\n",
    "print(computador)\n",
    "computador['Placa de Video'] = 'NVDIA'\n",
    "print(computador)"
   ]
  },
  {
   "cell_type": "code",
   "execution_count": 52,
   "metadata": {},
   "outputs": [
    {
     "name": "stdout",
     "output_type": "stream",
     "text": [
      "{'CPU': 'Intel', 'RAM': '8gb', 'SSD': '250gb', 'Placa de Video': 'NVDIA'}\n",
      "{'CPU': 'Intel', 'RAM': '16gb', 'SSD': '250gb', 'Placa de Video': 'NVDIA'}\n"
     ]
    }
   ],
   "source": [
    "print(computador)\n",
    "computador['RAM'] = '16gb'\n",
    "print(computador)"
   ]
  },
  {
   "cell_type": "markdown",
   "metadata": {},
   "source": [
    "### Para remover um item do dicionário, podemos usar o método <font color=\"red\"> **pop()**</font>"
   ]
  },
  {
   "cell_type": "code",
   "execution_count": 56,
   "metadata": {},
   "outputs": [
    {
     "name": "stdout",
     "output_type": "stream",
     "text": [
      "{'CPU': 'Intel', 'SSD': '250gb', 'Placa de Video': 'NVDIA'}\n",
      "{'CPU': 'Intel', 'SSD': '250gb', 'Placa de Video': 'NVDIA'}\n"
     ]
    }
   ],
   "source": [
    "print(computador)\n",
    "computador.pop('RAM', None)\n",
    "print(computador)"
   ]
  },
  {
   "cell_type": "markdown",
   "metadata": {},
   "source": [
    "### Na célula anterior temos o uso do método <font color=\"red\"> **pop()** </font>, usado para remover o item '*RAM*’ do dicionário *computador*. \n",
    "- ### Temos na chamada do método o parâmetro None, que é passado depois da chave a ser removida. \n",
    "- ### O None serve para que a mensagem de erro KeyError não apareça devido a remoção de uma chave inexistente."
   ]
  },
  {
   "cell_type": "markdown",
   "metadata": {},
   "source": [
    "### Outra alternativa seria usar a palavra-chave del, que remove uma chave e o valor associado a ela no dicionário. <br>\n",
    "### Isso se faz por meio da passagem no parâmetro."
   ]
  },
  {
   "cell_type": "code",
   "execution_count": 57,
   "metadata": {},
   "outputs": [
    {
     "name": "stdout",
     "output_type": "stream",
     "text": [
      "{'marca': 'Ford', 'modelo': 'Mustang', 'ano': 1964, 'cor': 'Azul'}\n",
      "{'marca': 'Ford', 'modelo': 'Mustang', 'ano': 1964}\n"
     ]
    }
   ],
   "source": [
    "carro = {\n",
    "  \"marca\": \"Ford\",\n",
    "  \"modelo\": \"Mustang\",\n",
    "  \"ano\": 1964,\n",
    "  \"cor\": \"Azul\"\n",
    "}\n",
    "print(carro)\n",
    "del carro[\"cor\"]\n",
    "print(carro)"
   ]
  },
  {
   "cell_type": "markdown",
   "metadata": {},
   "source": [
    "### Em Python podemos aninhar dicionarios. <br>\n",
    "### Um dicionário aninhado é um dicionário dentro de um dicionário. <br>\n",
    "### É uma coleção de dicionários em um único dicionário."
   ]
  },
  {
   "cell_type": "code",
   "execution_count": 59,
   "metadata": {},
   "outputs": [],
   "source": [
    "familia = {\n",
    "    \"filho1\": { \"nome\": \"Mateus\", \"ano\": 2004},\n",
    "    \"filho2\": { \"nome\": \"Lucas\", \"ano\": 2007}, \n",
    "    \"filho3\": { \"nome\": \"Sabrina\", \"ano\": 2011}\n",
    "}"
   ]
  },
  {
   "cell_type": "markdown",
   "metadata": {},
   "source": [
    "### Mostrando toda a familia"
   ]
  },
  {
   "cell_type": "code",
   "execution_count": 60,
   "metadata": {},
   "outputs": [
    {
     "name": "stdout",
     "output_type": "stream",
     "text": [
      "Familia completa: {'filho1': {'nome': 'Mateus', 'ano': 2004}, 'filho2': {'nome': 'Lucas', 'ano': 2007}, 'filho3': {'nome': 'Sabrina', 'ano': 2011}}\n"
     ]
    }
   ],
   "source": [
    "print(f\"Familia completa: {familia}\")"
   ]
  },
  {
   "cell_type": "markdown",
   "metadata": {},
   "source": [
    "### Coletando detalhes do filho mais novo"
   ]
  },
  {
   "cell_type": "code",
   "execution_count": 61,
   "metadata": {},
   "outputs": [
    {
     "name": "stdout",
     "output_type": "stream",
     "text": [
      "Detalhes do filho mais novo: {'nome': 'Sabrina', 'ano': 2011}\n"
     ]
    }
   ],
   "source": [
    "detalhes_filho_novo = familia['filho3']\n",
    "print(f\"Detalhes do filho mais novo: {detalhes_filho_novo}\")"
   ]
  },
  {
   "cell_type": "markdown",
   "metadata": {},
   "source": [
    "### Coletando o nome do filho mais velho"
   ]
  },
  {
   "cell_type": "code",
   "execution_count": 63,
   "metadata": {},
   "outputs": [
    {
     "name": "stdout",
     "output_type": "stream",
     "text": [
      "Nome do filho mais velho: Mateus\n"
     ]
    }
   ],
   "source": [
    "nome_filho_velho = familia['filho1']['nome']\n",
    "print(f\"Nome do filho mais velho: {nome_filho_velho}\")"
   ]
  },
  {
   "cell_type": "markdown",
   "metadata": {},
   "source": [
    "### Coletando o ano de nascimento do filho do meio"
   ]
  },
  {
   "cell_type": "code",
   "execution_count": 64,
   "metadata": {},
   "outputs": [
    {
     "name": "stdout",
     "output_type": "stream",
     "text": [
      "Ano de nascimento do filho do meio: 2007\n"
     ]
    }
   ],
   "source": [
    "ano_filho_meio = familia['filho2']['ano']\n",
    "# Sem f string:\n",
    "print(\"Ano do filho do meio: \" + str(ano_filho_meio))\n",
    "print(f\"Ano de nascimento do filho do meio: {ano_filho_meio}\")"
   ]
  },
  {
   "cell_type": "markdown",
   "metadata": {},
   "source": [
    "## **2.6 Em resumo**"
   ]
  },
  {
   "cell_type": "markdown",
   "metadata": {},
   "source": [
    "- ### Lista é uma coleção ordenada e mutável. Permite membros duplicados.\n",
    "- ### Tupla é uma coleção ordenada e imutável. Permite membros duplicados.\n",
    "- ### Set é uma coleção não ordenada, imutável e não indexada. Nenhum membro duplicado.\n",
    "- ### O dicionário é uma coleção ordenada e mutável. Nenhuma chave duplicada."
   ]
  },
  {
   "cell_type": "markdown",
   "metadata": {},
   "source": [
    "---"
   ]
  },
  {
   "cell_type": "markdown",
   "metadata": {},
   "source": [
    "# **3. Estruturas condicionais** ⚡"
   ]
  },
  {
   "cell_type": "markdown",
   "metadata": {},
   "source": [
    "<img src=\"../images/if-else.jpg\" alt=\"Drawing\" style=\"width: 400px;\"/>"
   ]
  },
  {
   "cell_type": "markdown",
   "metadata": {},
   "source": [
    "### Em Python, assim como na maioria das linguagens de programação, o programa deve ser capaz de tomar decisões com base em valores e resultados gerados durante sua execução, ou seja, deve ser capaz de decidir se determinada instrução deve ou não ser executada de acordo com uma condição. <br>\n",
    "### Para atender a esse tipo de situação, podemos utilizar instruções especiais denominadas estruturas condicionais."
   ]
  },
  {
   "cell_type": "markdown",
   "metadata": {},
   "source": [
    "## **3.1 Estruturas de condição: if**"
   ]
  },
  {
   "cell_type": "markdown",
   "metadata": {},
   "source": [
    "### O <font color=\"red\"> **if** </font> é uma estrutura de condição que permite avaliar uma expressão e, de acordo com seu resultado, executar uma determinada ação."
   ]
  },
  {
   "cell_type": "code",
   "execution_count": 66,
   "metadata": {},
   "outputs": [
    {
     "name": "stdout",
     "output_type": "stream",
     "text": [
      "Você é jovem!\n"
     ]
    }
   ],
   "source": [
    "idade = 19\n",
    "if idade < 20:\n",
    "    print('Você é jovem!')"
   ]
  },
  {
   "cell_type": "markdown",
   "metadata": {},
   "source": [
    "## **3.2 Estruturas de condição: if-else**"
   ]
  },
  {
   "cell_type": "markdown",
   "metadata": {},
   "source": [
    "### Vimos anteriormente como utilizar o if para executar uma ação caso uma condição seja atendida. <br>\n",
    "### No entanto, nenhum comportamento específico foi definido para o caso de a condição não ser satisfeita. <br>\n",
    "### Quando isso é necessário, precisamos utilizar a reservada <font color=\"red\"> **else** </font>."
   ]
  },
  {
   "cell_type": "code",
   "execution_count": 68,
   "metadata": {},
   "outputs": [
    {
     "name": "stdout",
     "output_type": "stream",
     "text": [
      "-26.0\n",
      "Resultado negativo!\n"
     ]
    }
   ],
   "source": [
    "def subtracao(a, b):\n",
    "    return a - b\n",
    "\n",
    "valor_1 = float(input('Digite o primeiro valor: '))\n",
    "valor_2 = float(input('Digite o segundo valor: '))\n",
    "\n",
    "diferenca = subtracao(valor_1, valor_2)\n",
    "print(diferenca)\n",
    "\n",
    "if diferenca > 0:\n",
    "    print(\"Resultado positivo!\")\n",
    "else:\n",
    "    print(\"Resultado negativo!\")"
   ]
  },
  {
   "cell_type": "markdown",
   "metadata": {},
   "source": [
    "## **3.3 Estruturas de condição: if-elif-else**"
   ]
  },
  {
   "cell_type": "markdown",
   "metadata": {},
   "source": [
    "### Adicionalmente, se existir mais de uma condição alternativa que precisa ser verificada, devemos utilizar o <font color= 'red'> **elif** </font>para avaliar as expressões intermediárias antes de usar o else, da seguinte forma:"
   ]
  },
  {
   "cell_type": "markdown",
   "metadata": {},
   "source": [
    "### elif: else if em python"
   ]
  },
  {
   "cell_type": "code",
   "execution_count": null,
   "metadata": {},
   "outputs": [],
   "source": [
    "def orcamento_mensal(salario, conta_de_luz, conta_de_agua, despesas, investimentos, happy_hours):\n",
    "    meu_orcamento = salario + investimentos - (happy_hours + conta_de_luz + conta_de_agua + despesas)\n",
    "    return meu_orcamento\n",
    "\n",
    "orcamento_mes = orcamento_mensal(10000, 500, 400, 500, 3000, 10000)\n",
    "\n",
    "print(orcamento_mes)\n",
    "if orcamento_mes > 5000:\n",
    "    print(\"Para este mês você está acima do planejado. Continue assim\")\n",
    "elif orcamento_mes >= 2500 and orcamento_mes <= 4999:\n",
    "    print(\"Para este mês você está dentro do planejado\")\n",
    "else:\n",
    "    print(\"Você não atingiu a meta de orcamento mensal\")"
   ]
  },
  {
   "cell_type": "markdown",
   "metadata": {},
   "source": [
    "### Tabela com os operadores de comparação"
   ]
  },
  {
   "cell_type": "markdown",
   "metadata": {},
   "source": [
    "![operadores_de_comparacao](../images/operadores_de_comparacao.png \"operadores_de_comparacao\")"
   ]
  },
  {
   "cell_type": "markdown",
   "metadata": {},
   "source": [
    "## **3.4 Expressão condicional**"
   ]
  },
  {
   "cell_type": "markdown",
   "metadata": {},
   "source": [
    "### Em Python possuimos uma maneira mais simples de realizar uma ou mais comparacoes usando <font color='red'> **Expressões condicionais**</font>"
   ]
  },
  {
   "cell_type": "markdown",
   "metadata": {},
   "source": [
    "### Suponhamos que desejamos verificar se um numero é par ou ímpar.\n",
    "### Do jeito tradicional fariamos:"
   ]
  },
  {
   "cell_type": "code",
   "execution_count": null,
   "metadata": {},
   "outputs": [],
   "source": [
    "import random as rd\n",
    "\n",
    "def numero_aleatorio():\n",
    "    return rd.randint(1, 100)\n",
    "\n",
    "numero = numero_aleatorio()\n",
    "\n",
    "print(numero)\n",
    "\n",
    "if numero %2 == 0:\n",
    "    print(\"Par\")\n",
    "else:\n",
    "    print(\"Ímpar\")"
   ]
  },
  {
   "cell_type": "markdown",
   "metadata": {},
   "source": [
    "### Com a expressão condicional podemos fazer a comparacao em apenas uma linha:"
   ]
  },
  {
   "cell_type": "code",
   "execution_count": null,
   "metadata": {},
   "outputs": [],
   "source": [
    "import random as rd\n",
    "\n",
    "def numero_aleatorio():\n",
    "    return rd.randint(1, 100)\n",
    "\n",
    "numero = numero_aleatorio()\n",
    "\n",
    "print(numero)\n",
    "\n",
    "print(\"par\" if numero % 2 == 0 else \"impar\")"
   ]
  },
  {
   "cell_type": "markdown",
   "metadata": {},
   "source": [
    "## **3.5 Switch Case (Disponivel a partir da versão 3.10)**"
   ]
  },
  {
   "cell_type": "markdown",
   "metadata": {},
   "source": [
    "### Uma maneira diferente de se tratar condições é o que chamamos de Switch Case. \n",
    "### Podemos utilizar essa técnica de programação sempre que depararmos com algum problema em que necessitamos lidar com varias condições "
   ]
  },
  {
   "cell_type": "markdown",
   "metadata": {},
   "source": [
    "### Abaixo, um pequeno exemplo de uma utilização prática da técnica switch case na prática, retornando ao usuario o status da requisição http em algum endereço web"
   ]
  },
  {
   "cell_type": "code",
   "execution_count": null,
   "metadata": {},
   "outputs": [],
   "source": [
    "# O codigo abaixo apenas funciona para a versão do python 3.10 acima\n",
    "\n",
    "def codigo_status_http(codigo):\n",
    "    match codigo:\n",
    "        case 200:\n",
    "            return \"OK\"\n",
    "        case 201:\n",
    "            return \"Created\"\n",
    "        case 202:\n",
    "            return \"Accepted\"\n",
    "        case 203:\n",
    "            return \"Non-Authoritative Information\"\n",
    "        case 204:\n",
    "            return \"No Content\"\n",
    "        case 401:\n",
    "            return \"Unauthorized\"\n",
    "        case 404:\n",
    "            return \"Not Found\"\n",
    "        case 500:\n",
    "            return \"Internal Server Error\"\n",
    "        case _:\n",
    "            return \"Codigo invalido!\"\n",
    "codigo = codigo_status_http(574)\n",
    "print(codigo)"
   ]
  },
  {
   "cell_type": "markdown",
   "metadata": {},
   "source": [
    "---"
   ]
  }
 ],
 "metadata": {
  "kernelspec": {
   "display_name": "Python 3",
   "language": "python",
   "name": "python3"
  },
  "language_info": {
   "codemirror_mode": {
    "name": "ipython",
    "version": 3
   },
   "file_extension": ".py",
   "mimetype": "text/x-python",
   "name": "python",
   "nbconvert_exporter": "python",
   "pygments_lexer": "ipython3",
   "version": "3.11.1 (tags/v3.11.1:a7a450f, Dec  6 2022, 19:58:39) [MSC v.1934 64 bit (AMD64)]"
  },
  "vscode": {
   "interpreter": {
    "hash": "25bf6d478f8f223d81ef3968c1bf8a742ed3766d6f4dbe3980539d77ce9bc462"
   }
  }
 },
 "nbformat": 4,
 "nbformat_minor": 4
}
